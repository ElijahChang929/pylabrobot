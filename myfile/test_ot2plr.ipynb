{
 "cells": [
  {
   "cell_type": "code",
   "execution_count": 27,
   "id": "698617d2",
   "metadata": {},
   "outputs": [],
   "source": [
    "# NF‑κB Luciferase Reporter Assay – pylabrobot version\n",
    "# Author: Guangxin Zhang \n",
    "# This script automates the luciferase activity measurement protocol using\n",
    "# pylabrobot and the custom backend you created earlier today.\n",
    "from pylabrobot.resources.opentrons import OTDeck\n",
    "from pylabrobot.liquid_handling import LiquidHandler\n",
    "from pylabrobot.liquid_handling.backends.opentrons_backend_jump import OpentronsBackend\n",
    "from pylabrobot.visualizer.visualizer import Visualizer\n",
    "from pylabrobot.resources import Coordinate\n",
    "from pylabrobot.resources.opentrons import (\n",
    "corning_96_wellplate_360ul_flat,\n",
    "    nest_12_reservoir_15ml,\n",
    "    nest_1_reservoir_195ml,\n",
    "    opentrons_96_tiprack_300ul\n",
    ")\n",
    "\n",
    "# ──────────────────────────────────────\n",
    "# User‑configurable constants (µL)\n",
    "MEDIUM_VOL = 100     # volume of spent medium to remove\n",
    "PBS_VOL    = 50      # PBS wash volume\n",
    "LYSIS_VOL  = 30      # lysis buffer volume\n",
    "LUC_VOL    = 100     # luciferase reagent volume\n",
    "TOTAL_COL  = 12      # process A1–A12\n",
    "\n",
    "# ──────────────────────────────────────\n",
    "def _build_deck(lh: LiquidHandler):\n",
    "    \"\"\"Load all labware on the deck and return handy shortcuts.\"\"\"\n",
    "    # Tip‑racks on slots 8, 11, 1, 4  (order preserved to match Opentrons layout)\n",
    "    tiprack_slots = [8, 11, 1, 4]\n",
    "    tipracks = []\n",
    "    # Load tip racks\n",
    "    for slot_i in tiprack_slots:\n",
    "      tr = opentrons_96_tiprack_300ul(name=f\"tiprack_{slot_i}\")\n",
    "      lh.deck.assign_child_at_slot(tr, slot=slot_i)\n",
    "      tipracks.append(tr)\n",
    "    # Working 96‑well plate at slot 6\n",
    "    working_plate = corning_96_wellplate_360ul_flat(name=\"working_plate\")\n",
    "    lh.deck.assign_child_at_slot(working_plate, slot=6)\n",
    "\n",
    "    # 12‑channel reservoir (PBS, Lysis, Luciferase) at slot 3\n",
    "    reagent_stock = nest_12_reservoir_15ml(name=\"reagent_stock\")\n",
    "    lh.deck.assign_child_at_slot(reagent_stock, slot=3)\n",
    "\n",
    "    # 1‑channel waste reservoir at slot 9\n",
    "    waste_res = nest_1_reservoir_195ml(name=\"waste_res\")\n",
    "    lh.deck.assign_child_at_slot(waste_res, slot=9)\n",
    "\n",
    "    return {\n",
    "        \"tip_racks\"     : tipracks,\n",
    "        \"working_plate\" : working_plate,\n",
    "        \"reagent_res\"   : reagent_stock,\n",
    "        \"waste_res\"     : waste_res\n",
    "    }"
   ]
  },
  {
   "cell_type": "code",
   "execution_count": 28,
   "id": "ab3e92b8",
   "metadata": {},
   "outputs": [],
   "source": [
    "def _tip_gen(tip_racks):\n",
    "    \"\"\"Yield the next available tip.\"\"\"\n",
    "    for rack in tip_racks:\n",
    "        for tip in rack:\n",
    "            yield tip\n",
    "    raise RuntimeError(\"Out of tips!\")"
   ]
  },
  {
   "cell_type": "code",
   "execution_count": 29,
   "id": "403b5eb0",
   "metadata": {},
   "outputs": [
    {
     "name": "stdout",
     "output_type": "stream",
     "text": [
      "Websocket server started at http://127.0.0.1:2126\n",
      "File server started at http://127.0.0.1:1342 . Open this URL in your browser.\n"
     ]
    }
   ],
   "source": [
    "backend = OpentronsBackend(host=\"localhost\", simulation=True)\n",
    "lh = LiquidHandler(backend=backend, deck=OTDeck())\n",
    "await lh.setup()\n",
    "vis = Visualizer(resource=lh)\n",
    "await vis.setup()\n",
    "deck = _build_deck(lh)\n",
    "tips = _tip_gen(deck[\"tip_racks\"])"
   ]
  },
  {
   "cell_type": "code",
   "execution_count": 30,
   "id": "331bb191",
   "metadata": {},
   "outputs": [],
   "source": [
    "pbs        = deck[\"reagent_res\"][0]\n",
    "lysis      = deck[\"reagent_res\"][1]\n",
    "luciferase = deck[\"reagent_res\"][2]\n",
    "waste      = deck[\"waste_res\"][0]\n",
    "wells_name = [f\"A{i}\" for i in range(1, 13)]\n",
    "cells_all  = deck[\"working_plate\"][wells_name] # A1–A12"
   ]
  },
  {
   "cell_type": "code",
   "execution_count": 31,
   "id": "f0610ef1",
   "metadata": {},
   "outputs": [],
   "source": [
    "# ────────── 1. Remove spent medium ──────────\n",
    "for cell in cells_all:\n",
    "    tip = next(tips)\n",
    "    await lh.pick_up_tips(tip)\n",
    "    await lh.aspirate([cell], [MEDIUM_VOL * 1.2], flow_rates=[0.2])\n",
    "    await lh.dispense(waste, [MEDIUM_VOL * 1.4], flow_rates=[3])\n",
    "    await lh.discard_tips()"
   ]
  },
  {
   "cell_type": "code",
   "execution_count": 32,
   "id": "fa8be592",
   "metadata": {},
   "outputs": [],
   "source": [
    "await lh.pick_up_tips(next(tips))"
   ]
  },
  {
   "cell_type": "code",
   "execution_count": null,
   "id": "e7dd27df",
   "metadata": {},
   "outputs": [
    {
     "ename": "AttributeError",
     "evalue": "'OpentronsBackend' object has no attribute 'make_asp'",
     "output_type": "error",
     "traceback": [
      "\u001b[0;31m---------------------------------------------------------------------------\u001b[0m",
      "\u001b[0;31mAttributeError\u001b[0m                            Traceback (most recent call last)",
      "Cell \u001b[0;32mIn[35], line 1\u001b[0m\n\u001b[0;32m----> 1\u001b[0m asp \u001b[38;5;241m=\u001b[39m \u001b[43mbackend\u001b[49m\u001b[38;5;241;43m.\u001b[39;49m\u001b[43mmake_asp\u001b[49m(\n\u001b[1;32m      2\u001b[0m   resource\u001b[38;5;241m=\u001b[39mpbs,\n\u001b[1;32m      3\u001b[0m   offset\u001b[38;5;241m=\u001b[39mCoordinate(\u001b[38;5;241m0\u001b[39m, \u001b[38;5;241m0\u001b[39m, \u001b[38;5;241m0\u001b[39m),  \u001b[38;5;66;03m# 如果不需要特殊偏移\u001b[39;00m\n\u001b[1;32m      4\u001b[0m   tip\u001b[38;5;241m=\u001b[39m\u001b[38;5;28;01mNone\u001b[39;00m,                   \u001b[38;5;66;03m# 如果不需要指定 tip，可为 None 或传入实际 tip\u001b[39;00m\n\u001b[1;32m      5\u001b[0m   volume\u001b[38;5;241m=\u001b[39mPBS_VOL,\n\u001b[1;32m      6\u001b[0m   flow_rate\u001b[38;5;241m=\u001b[39m\u001b[38;5;241m3\u001b[39m,\n\u001b[1;32m      7\u001b[0m   air_vol\u001b[38;5;241m=\u001b[39m\u001b[38;5;241m20\u001b[39m\n\u001b[1;32m      8\u001b[0m )\n",
      "\u001b[0;31mAttributeError\u001b[0m: 'OpentronsBackend' object has no attribute 'make_asp'"
     ]
    }
   ],
   "source": []
  },
  {
   "cell_type": "code",
   "execution_count": 37,
   "id": "c948ab16",
   "metadata": {},
   "outputs": [
    {
     "name": "stderr",
     "output_type": "stream",
     "text": [
      "/Users/guangxinzhang/Documents/Deep Potential/pylabrobot/pylabrobot/liquid_handling/liquid_handler.py:338: UserWarning: Extra arguments to backend.aspirate: {'flow_rate'}\n",
      "  warnings.warn(f\"Extra arguments to backend.{method.__name__}: {extra}\")\n",
      "/Users/guangxinzhang/Documents/Deep Potential/pylabrobot/pylabrobot/liquid_handling/liquid_handler.py:338: UserWarning: Extra arguments to backend.dispense: {'offset', 'flow_rate'}\n",
      "  warnings.warn(f\"Extra arguments to backend.{method.__name__}: {extra}\")\n"
     ]
    }
   ],
   "source": [
    "\n",
    "\n",
    "for cell in cells_all:\n",
    "\n",
    "\n",
    "  await lh.aspirate(pbs, vols=[PBS_VOL], flow_rate = [3], blow_out_air_volume = [20])\n",
    "\n",
    "  await lh.dispense([cell], [PBS_VOL + 20], flow_rate=0.3,\n",
    "                offset=Coordinate(z=-2))\n",
    "\n",
    "await lh.discard_tips()\n"
   ]
  }
 ],
 "metadata": {
  "kernelspec": {
   "display_name": "pylabrobot",
   "language": "python",
   "name": "python3"
  },
  "language_info": {
   "codemirror_mode": {
    "name": "ipython",
    "version": 3
   },
   "file_extension": ".py",
   "mimetype": "text/x-python",
   "name": "python",
   "nbconvert_exporter": "python",
   "pygments_lexer": "ipython3",
   "version": "3.10.17"
  }
 },
 "nbformat": 4,
 "nbformat_minor": 5
}
