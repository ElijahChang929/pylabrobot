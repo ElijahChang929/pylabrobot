{
 "cells": [
  {
   "cell_type": "code",
   "execution_count": 6,
   "id": "698617d2",
   "metadata": {},
   "outputs": [],
   "source": [
    "# NF‑κB Luciferase Reporter Assay – pylabrobot version\n",
    "# Author: Guangxin Zhang \n",
    "# This script automates the luciferase activity measurement protocol using\n",
    "# pylabrobot and the opentrons backend .\n",
    "\n",
    "from pylabrobot.resources.opentrons import OTDeck\n",
    "from pylabrobot.liquid_handling import LiquidHandler\n",
    "from pylabrobot.liquid_handling.backends.opentrons_backend_jump import OpentronsBackend\n",
    "from pylabrobot.visualizer.visualizer import Visualizer\n",
    "from pylabrobot.resources import Coordinate\n",
    "from pylabrobot.resources.opentrons import (\n",
    "corning_96_wellplate_360ul_flat,\n",
    "    nest_12_reservoir_15ml,\n",
    "    nest_1_reservoir_195ml,\n",
    "    opentrons_96_tiprack_300ul\n",
    ")\n",
    "\n",
    "# ──────────────────────────────────────\n",
    "# User‑configurable constants (µL)\n",
    "MEDIUM_VOL = 100     # volume of spent medium to remove\n",
    "PBS_VOL    = 50      # PBS wash volume\n",
    "LYSIS_VOL  = 30      # lysis buffer volume\n",
    "LUC_VOL    = 100     # luciferase reagent volume\n",
    "\n",
    "# ──────────────────────────────────────\n",
    "def _build_deck(lh: LiquidHandler):\n",
    "    \"\"\"Load all labware on the deck and return handy shortcuts.\"\"\"\n",
    "    # Tip‑racks on slots 8, 11, 1, 4  (order preserved to match Opentrons layout)\n",
    "    tiprack_slots = [8, 11, 1, 4]\n",
    "    tipracks = []\n",
    "    # Load tip racks\n",
    "    for slot_i in tiprack_slots:\n",
    "      tr = opentrons_96_tiprack_300ul(name=f\"tiprack_{slot_i}\")\n",
    "      lh.deck.assign_child_at_slot(tr, slot=slot_i)\n",
    "      tipracks.append(tr)\n",
    "    # Working 96‑well plate at slot 6\n",
    "    working_plate = corning_96_wellplate_360ul_flat(name=\"working_plate\")\n",
    "    lh.deck.assign_child_at_slot(working_plate, slot=6)\n",
    "\n",
    "    # 12‑channel reservoir (PBS, Lysis, Luciferase) at slot 3\n",
    "    reagent_stock = nest_12_reservoir_15ml(name=\"reagent_stock\")\n",
    "    lh.deck.assign_child_at_slot(reagent_stock, slot=3)\n",
    "\n",
    "    # 1‑channel waste reservoir at slot 9\n",
    "    waste_res = nest_1_reservoir_195ml(name=\"waste_res\") # 废液缸\n",
    "    lh.deck.assign_child_at_slot(waste_res, slot=9)\n",
    "\n",
    "    return {\n",
    "        \"tip_racks\"     : tipracks,\n",
    "        \"working_plate\" : working_plate,\n",
    "        \"reagent_res\"   : reagent_stock,\n",
    "        \"waste_res\"     : waste_res\n",
    "    }\n",
    "\n",
    "def _tip_gen(tip_racks):\n",
    "    \"\"\"Yield the next available tip.\"\"\"\n",
    "    for rack in tip_racks:\n",
    "        for tip in rack:\n",
    "            yield tip\n",
    "    raise RuntimeError(\"Out of tips!\")\n",
    "\n"
   ]
  },
  {
   "cell_type": "code",
   "execution_count": 7,
   "id": "403b5eb0",
   "metadata": {},
   "outputs": [
    {
     "name": "stdout",
     "output_type": "stream",
     "text": [
      "Websocket server started at http://127.0.0.1:2124\n",
      "File server started at http://127.0.0.1:1340 . Open this URL in your browser.\n"
     ]
    }
   ],
   "source": [
    "backend = OpentronsBackend(host=\"localhost\", simulation=True)\n",
    "lh = LiquidHandler(backend=backend, deck=OTDeck())\n",
    "await lh.setup()\n",
    "vis = Visualizer(resource=lh)\n",
    "await vis.setup()\n",
    "deck = _build_deck(lh)\n",
    "tips = _tip_gen(deck[\"tip_racks\"])"
   ]
  },
  {
   "cell_type": "code",
   "execution_count": 8,
   "id": "331bb191",
   "metadata": {},
   "outputs": [],
   "source": [
    "working_plate_volumns = [('culture medium', MEDIUM_VOL)] * 12 + [(None, 0)] * (96-12)\n",
    "deck[\"working_plate\"].set_well_liquids(working_plate_volumns)\n",
    "\n",
    "reagent_info = [('PBS Buffer', 5000), ('Lysis Buffer', 5000), ('Luciferase Reagent', 5000)]+[ (None, 0) ]* 9\n",
    "deck[\"reagent_res\"].set_well_liquids(reagent_info)\n",
    "\n",
    "pbs        = deck[\"reagent_res\"][0][0]\n",
    "lysis      = deck[\"reagent_res\"][1][0]\n",
    "luciferase = deck[\"reagent_res\"][2][0]\n",
    "waste      = deck[\"waste_res\"][0][0]\n",
    "\n",
    "wells_name = [f\"A{i}\" for i in range(1, 13)]\n",
    "cells_all  = deck[\"working_plate\"][wells_name] # A1–A12\n"
   ]
  },
  {
   "cell_type": "code",
   "execution_count": 9,
   "id": "99167211",
   "metadata": {},
   "outputs": [
    {
     "data": {
      "text/plain": [
       "(None, None)"
      ]
     },
     "execution_count": 9,
     "metadata": {},
     "output_type": "execute_result"
    }
   ],
   "source": [
    "from pylabrobot.resources import set_tip_tracking, set_volume_tracking\n",
    "set_tip_tracking(True), set_volume_tracking(True)"
   ]
  },
  {
   "cell_type": "code",
   "execution_count": 10,
   "id": "f0610ef1",
   "metadata": {},
   "outputs": [
    {
     "name": "stdout",
     "output_type": "stream",
     "text": [
      "Well(name=working_plate_A1, location=Coordinate(011.954, 071.814, 003.550), size_x=4.851, size_y=4.851, size_z=10.67, category=well)\n",
      "Tracker only has 100uL, please pay attention.\n",
      "Container has too little liquid: 120.0uL > 100uL, please pay attention.\n"
     ]
    },
    {
     "ename": "IndexError",
     "evalue": "pop from empty list",
     "output_type": "error",
     "traceback": [
      "\u001b[0;31m---------------------------------------------------------------------------\u001b[0m",
      "\u001b[0;31mIndexError\u001b[0m                                Traceback (most recent call last)",
      "Cell \u001b[0;32mIn[10], line 6\u001b[0m\n\u001b[1;32m      4\u001b[0m tip \u001b[38;5;241m=\u001b[39m \u001b[38;5;28mnext\u001b[39m(tips)\n\u001b[1;32m      5\u001b[0m \u001b[38;5;28;01mawait\u001b[39;00m lh\u001b[38;5;241m.\u001b[39mpick_up_tips(tip)\n\u001b[0;32m----> 6\u001b[0m \u001b[38;5;28;01mawait\u001b[39;00m lh\u001b[38;5;241m.\u001b[39maspirate([cell], [MEDIUM_VOL \u001b[38;5;241m*\u001b[39m \u001b[38;5;241m1.2\u001b[39m], flow_rates\u001b[38;5;241m=\u001b[39m[\u001b[38;5;241m0.2\u001b[39m])\n\u001b[1;32m      7\u001b[0m \u001b[38;5;28;01mawait\u001b[39;00m lh\u001b[38;5;241m.\u001b[39mdispense(waste, [MEDIUM_VOL \u001b[38;5;241m*\u001b[39m \u001b[38;5;241m1.4\u001b[39m], flow_rates\u001b[38;5;241m=\u001b[39m[\u001b[38;5;241m3\u001b[39m])\n\u001b[1;32m      8\u001b[0m \u001b[38;5;28;01mawait\u001b[39;00m lh\u001b[38;5;241m.\u001b[39mdiscard_tips()\n",
      "File \u001b[0;32m~/Documents/Deep Potential/pylabrobot/pylabrobot/machines/machine.py:35\u001b[0m, in \u001b[0;36mneed_setup_finished.<locals>.wrapper\u001b[0;34m(*args, **kwargs)\u001b[0m\n\u001b[1;32m     33\u001b[0m \u001b[38;5;28;01mif\u001b[39;00m \u001b[38;5;129;01mnot\u001b[39;00m \u001b[38;5;28mself\u001b[39m\u001b[38;5;241m.\u001b[39msetup_finished:\n\u001b[1;32m     34\u001b[0m   \u001b[38;5;28;01mraise\u001b[39;00m \u001b[38;5;167;01mRuntimeError\u001b[39;00m(\u001b[38;5;124m\"\u001b[39m\u001b[38;5;124mThe setup has not finished. See `setup`.\u001b[39m\u001b[38;5;124m\"\u001b[39m)\n\u001b[0;32m---> 35\u001b[0m \u001b[38;5;28;01mreturn\u001b[39;00m \u001b[38;5;28;01mawait\u001b[39;00m func(\u001b[38;5;241m*\u001b[39margs, \u001b[38;5;241m*\u001b[39m\u001b[38;5;241m*\u001b[39mkwargs)\n",
      "File \u001b[0;32m~/Documents/Deep Potential/pylabrobot/pylabrobot/liquid_handling/liquid_handler.py:871\u001b[0m, in \u001b[0;36mLiquidHandler.aspirate\u001b[0;34m(self, resources, vols, use_channels, flow_rates, offsets, liquid_height, blow_out_air_volume, spread, **backend_kwargs)\u001b[0m\n\u001b[1;32m    869\u001b[0m \u001b[38;5;28;01mif\u001b[39;00m does_volume_tracking():\n\u001b[1;32m    870\u001b[0m   \u001b[38;5;28;01mif\u001b[39;00m \u001b[38;5;129;01mnot\u001b[39;00m op\u001b[38;5;241m.\u001b[39mresource\u001b[38;5;241m.\u001b[39mtracker\u001b[38;5;241m.\u001b[39mis_disabled:\n\u001b[0;32m--> 871\u001b[0m     \u001b[43mop\u001b[49m\u001b[38;5;241;43m.\u001b[39;49m\u001b[43mresource\u001b[49m\u001b[38;5;241;43m.\u001b[39;49m\u001b[43mtracker\u001b[49m\u001b[38;5;241;43m.\u001b[39;49m\u001b[43mremove_liquid\u001b[49m\u001b[43m(\u001b[49m\u001b[43mop\u001b[49m\u001b[38;5;241;43m.\u001b[39;49m\u001b[43mvolume\u001b[49m\u001b[43m)\u001b[49m\n\u001b[1;32m    873\u001b[0m   \u001b[38;5;66;03m# Cross contamination check\u001b[39;00m\n\u001b[1;32m    874\u001b[0m   \u001b[38;5;28;01mif\u001b[39;00m does_cross_contamination_tracking():\n",
      "File \u001b[0;32m~/Documents/Deep Potential/pylabrobot/pylabrobot/resources/volume_tracker.py:130\u001b[0m, in \u001b[0;36mVolumeTracker.remove_liquid\u001b[0;34m(self, volume)\u001b[0m\n\u001b[1;32m    128\u001b[0m removed_volume \u001b[38;5;241m=\u001b[39m \u001b[38;5;241m0.0\u001b[39m\n\u001b[1;32m    129\u001b[0m \u001b[38;5;28;01mwhile\u001b[39;00m removed_volume \u001b[38;5;241m<\u001b[39m volume:\n\u001b[0;32m--> 130\u001b[0m   liquid, liquid_volume \u001b[38;5;241m=\u001b[39m \u001b[38;5;28;43mself\u001b[39;49m\u001b[38;5;241;43m.\u001b[39;49m\u001b[43mpending_liquids\u001b[49m\u001b[38;5;241;43m.\u001b[39;49m\u001b[43mpop\u001b[49m\u001b[43m(\u001b[49m\u001b[43m)\u001b[49m\n\u001b[1;32m    131\u001b[0m   removed_volume \u001b[38;5;241m+\u001b[39m\u001b[38;5;241m=\u001b[39m liquid_volume\n\u001b[1;32m    133\u001b[0m   \u001b[38;5;66;03m# If we have more liquid than we need, put the excess back.\u001b[39;00m\n",
      "\u001b[0;31mIndexError\u001b[0m: pop from empty list"
     ]
    }
   ],
   "source": [
    "# ────────── 1. Remove spent medium ──────────\n",
    "for cell in cells_all:\n",
    "    print(cell)\n",
    "    tip = next(tips)\n",
    "    await lh.pick_up_tips(tip)\n",
    "    await lh.aspirate([cell], [MEDIUM_VOL * 1.2], flow_rates=[0.2])\n",
    "    await lh.dispense(waste, [MEDIUM_VOL * 1.4], flow_rates=[3])\n",
    "    await lh.discard_tips()"
   ]
  },
  {
   "cell_type": "code",
   "execution_count": null,
   "id": "c948ab16",
   "metadata": {},
   "outputs": [
    {
     "name": "stderr",
     "output_type": "stream",
     "text": [
      "/Users/guangxinzhang/Documents/Deep Potential/pylabrobot/pylabrobot/liquid_handling/liquid_handler.py:338: UserWarning: Extra arguments to backend.dispense: {'flow_rate', 'offset'}\n",
      "  warnings.warn(f\"Extra arguments to backend.{method.__name__}: {extra}\")\n"
     ]
    }
   ],
   "source": [
    "# ────────── 2. PBS wash (add) ──────────\n",
    "await lh.pick_up_tips(next(tips))\n",
    "for cell in cells_all:\n",
    " #这里还没完全写好，后端需要改\n",
    "  await lh.aspirate(pbs, vols=[PBS_VOL], flow_rate = [3], blow_out_air_volume = [20])\n",
    "  await lh.dispense([cell], [PBS_VOL + 20], flow_rate=0.3,\n",
    "                offset=Coordinate(z=-2))\n",
    "\n",
    "await lh.discard_tips()\n"
   ]
  },
  {
   "cell_type": "code",
   "execution_count": 8,
   "id": "fd83f68f",
   "metadata": {},
   "outputs": [],
   "source": [
    " # ────────── 3. PBS wash (remove) ──────────\n",
    "for cell in cells_all:\n",
    "    tip = next(tips)\n",
    "    await lh.pick_up_tips(tip)\n",
    "    await lh.aspirate([cell], [PBS_VOL * 1.5], flow_rates=[0.2])\n",
    "    await lh.dispense(waste, [PBS_VOL * 1.5], flow_rates=[3])\n",
    "    await lh.discard_tips()"
   ]
  },
  {
   "cell_type": "code",
   "execution_count": null,
   "id": "748d5506",
   "metadata": {},
   "outputs": [],
   "source": []
  },
  {
   "cell_type": "code",
   "execution_count": 10,
   "id": "b8cee49c",
   "metadata": {},
   "outputs": [
    {
     "name": "stderr",
     "output_type": "stream",
     "text": [
      "/Users/guangxinzhang/Documents/Deep Potential/pylabrobot/pylabrobot/liquid_handling/liquid_handler.py:338: UserWarning: Extra arguments to backend.dispense: {'offset'}\n",
      "  warnings.warn(f\"Extra arguments to backend.{method.__name__}: {extra}\")\n"
     ]
    }
   ],
   "source": [
    "# ────────── 4. Add lysis buffer ──────────\n",
    "await lh.pick_up_tips(tip)\n",
    "for cell in cells_all:\n",
    "    await lh.aspirate(lysis, [LYSIS_VOL], flow_rates=[0.5])\n",
    "    #backend.delay(seconds=2)\n",
    "    await lh.dispense([cell], [LYSIS_VOL], flow_rates=[0.3],\n",
    "                offset=Coordinate(z=5))\n",
    "    #backend.delay(seconds=2)\n",
    "await lh.discard_tips()\n",
    "# backend.delay(minutes=3)"
   ]
  },
  {
   "cell_type": "code",
   "execution_count": 11,
   "id": "410845f0",
   "metadata": {},
   "outputs": [
    {
     "name": "stderr",
     "output_type": "stream",
     "text": [
      "/var/folders/qd/wlv112pj7rj3g8fv9q2tcw280000gn/T/ipykernel_4317/1731823875.py:3: RuntimeWarning: coroutine 'LiquidHandler.pick_up_tips' was never awaited\n",
      "  lh.pick_up_tips(next(tips))\n",
      "RuntimeWarning: Enable tracemalloc to get the object allocation traceback\n",
      "/var/folders/qd/wlv112pj7rj3g8fv9q2tcw280000gn/T/ipykernel_4317/1731823875.py:4: RuntimeWarning: coroutine 'LiquidHandler.aspirate' was never awaited\n",
      "  lh.aspirate(luciferase, [LUC_VOL], flow_rates=[0.75])\n",
      "RuntimeWarning: Enable tracemalloc to get the object allocation traceback\n",
      "/var/folders/qd/wlv112pj7rj3g8fv9q2tcw280000gn/T/ipykernel_4317/1731823875.py:6: RuntimeWarning: coroutine 'LiquidHandler.dispense' was never awaited\n",
      "  lh.dispense([cell], [LUC_VOL], flow_rates=[0.75],\n",
      "RuntimeWarning: Enable tracemalloc to get the object allocation traceback\n",
      "/var/folders/qd/wlv112pj7rj3g8fv9q2tcw280000gn/T/ipykernel_4317/1731823875.py:10: RuntimeWarning: coroutine 'LiquidHandler.discard_tips' was never awaited\n",
      "  lh.discard_tips()\n",
      "RuntimeWarning: Enable tracemalloc to get the object allocation traceback\n"
     ]
    }
   ],
   "source": [
    "# ────────── 5. Add luciferase reagent ──────────\n",
    "for cell in cells_all:\n",
    "    lh.pick_up_tips(next(tips))\n",
    "    lh.aspirate(luciferase, [LUC_VOL], flow_rates=[0.75])\n",
    "   # backend.delay(seconds=2)\n",
    "    lh.dispense([cell], [LUC_VOL], flow_rates=[0.75],\n",
    "                offset=Coordinate(z=-0.5))\n",
    "  # lh.mix([cell], volume=75, repetitions=3, flow_rate=3,\n",
    "   #         offset=Coordinate(z=0.5))\n",
    "    lh.discard_tips()\n",
    "\n",
    "#lh.finish()  # wrap‑up (home, log, etc.)"
   ]
  }
 ],
 "metadata": {
  "kernelspec": {
   "display_name": "pylabrobot",
   "language": "python",
   "name": "python3"
  },
  "language_info": {
   "codemirror_mode": {
    "name": "ipython",
    "version": 3
   },
   "file_extension": ".py",
   "mimetype": "text/x-python",
   "name": "python",
   "nbconvert_exporter": "python",
   "pygments_lexer": "ipython3",
   "version": "3.10.17"
  }
 },
 "nbformat": 4,
 "nbformat_minor": 5
}
