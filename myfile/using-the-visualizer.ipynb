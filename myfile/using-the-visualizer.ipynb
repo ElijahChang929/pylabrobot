{
 "cells": [
  {
   "cell_type": "code",
   "execution_count": 2,
   "id": "272520d3",
   "metadata": {},
   "outputs": [
    {
     "name": "stdout",
     "output_type": "stream",
     "text": [
      "Websocket server started at http://127.0.0.1:2121\n",
      "File server started at http://127.0.0.1:1337 . Open this URL in your browser.\n"
     ]
    }
   ],
   "source": [
    "from pylabrobot.liquid_handling import LiquidHandler\n",
    "from pylabrobot.visualizer.visualizer import Visualizer\n",
    "from pylabrobot.liquid_handling.backends.opentrons_backend_jump import OpentronsBackend\n",
    "from pylabrobot.resources.opentrons import OTDeck\n",
    "backend = OpentronsBackend(host=\"localhost\", simulation=True)\n",
    "lh = LiquidHandler(backend=backend, deck=OTDeck())\n",
    "await lh.setup()\n",
    "vis = Visualizer(resource=lh)\n",
    "await vis.setup()"
   ]
  },
  {
   "cell_type": "markdown",
   "id": "3002429b",
   "metadata": {},
   "source": [
    "![The empty simulator](./img/visualizer/empty.png)"
   ]
  },
  {
   "cell_type": "code",
   "execution_count": 3,
   "id": "33fed286",
   "metadata": {},
   "outputs": [],
   "source": [
    "from typing import cast\n",
    "\n",
    "from pylabrobot.resources.tip_rack import TipRack\n"
   ]
  },
  {
   "cell_type": "code",
   "execution_count": 7,
   "id": "77321114",
   "metadata": {},
   "outputs": [],
   "source": [
    "from pylabrobot.resources.opentrons import (\n",
    "nest_12_reservoir_15ml\n",
    ")\n",
    "\n",
    "reservoir = nest_12_reservoir_15ml(name=\"reservoir\")"
   ]
  },
  {
   "cell_type": "code",
   "execution_count": null,
   "id": "b14e3628",
   "metadata": {},
   "outputs": [
    {
     "ename": "ValueError",
     "evalue": "Spot 7 is already occupied",
     "output_type": "error",
     "traceback": [
      "\u001b[0;31m---------------------------------------------------------------------------\u001b[0m",
      "\u001b[0;31mValueError\u001b[0m                                Traceback (most recent call last)",
      "Cell \u001b[0;32mIn[5], line 10\u001b[0m\n\u001b[1;32m      7\u001b[0m tip_rack \u001b[38;5;241m=\u001b[39m opentrons_96_tiprack_300ul(name\u001b[38;5;241m=\u001b[39m\u001b[38;5;124m'\u001b[39m\u001b[38;5;124mtip rack\u001b[39m\u001b[38;5;124m'\u001b[39m)\n\u001b[1;32m      8\u001b[0m plt \u001b[38;5;241m=\u001b[39m nest_96_wellplate_2ml_deep(name\u001b[38;5;241m=\u001b[39m\u001b[38;5;124m'\u001b[39m\u001b[38;5;124mplate\u001b[39m\u001b[38;5;124m'\u001b[39m)\n\u001b[0;32m---> 10\u001b[0m \u001b[43mlh\u001b[49m\u001b[38;5;241;43m.\u001b[39;49m\u001b[43mdeck\u001b[49m\u001b[38;5;241;43m.\u001b[39;49m\u001b[43massign_child_at_slot\u001b[49m\u001b[43m(\u001b[49m\u001b[43mtip_rack\u001b[49m\u001b[43m,\u001b[49m\u001b[43m \u001b[49m\u001b[43mslot\u001b[49m\u001b[38;5;241;43m=\u001b[39;49m\u001b[38;5;241;43m7\u001b[39;49m\u001b[43m)\u001b[49m\n\u001b[1;32m     11\u001b[0m lh\u001b[38;5;241m.\u001b[39mdeck\u001b[38;5;241m.\u001b[39massign_child_at_slot(plt, slot\u001b[38;5;241m=\u001b[39m\u001b[38;5;241m4\u001b[39m)\n",
      "File \u001b[0;32m~/Documents/Deep Potential/pylabrobot/pylabrobot/resources/opentrons/deck.py:101\u001b[0m, in \u001b[0;36mOTDeck.assign_child_at_slot\u001b[0;34m(self, resource, slot)\u001b[0m\n\u001b[1;32m     98\u001b[0m   \u001b[38;5;28;01mraise\u001b[39;00m \u001b[38;5;167;01mValueError\u001b[39;00m(\u001b[38;5;124m\"\u001b[39m\u001b[38;5;124mslot must be between 1 and 12\u001b[39m\u001b[38;5;124m\"\u001b[39m)\n\u001b[1;32m    100\u001b[0m \u001b[38;5;28;01mif\u001b[39;00m \u001b[38;5;28mself\u001b[39m\u001b[38;5;241m.\u001b[39mslots[slot \u001b[38;5;241m-\u001b[39m \u001b[38;5;241m1\u001b[39m] \u001b[38;5;129;01mis\u001b[39;00m \u001b[38;5;129;01mnot\u001b[39;00m \u001b[38;5;28;01mNone\u001b[39;00m:\n\u001b[0;32m--> 101\u001b[0m   \u001b[38;5;28;01mraise\u001b[39;00m \u001b[38;5;167;01mValueError\u001b[39;00m(\u001b[38;5;124mf\u001b[39m\u001b[38;5;124m\"\u001b[39m\u001b[38;5;124mSpot \u001b[39m\u001b[38;5;132;01m{\u001b[39;00mslot\u001b[38;5;132;01m}\u001b[39;00m\u001b[38;5;124m is already occupied\u001b[39m\u001b[38;5;124m\"\u001b[39m)\n\u001b[1;32m    103\u001b[0m \u001b[38;5;28mself\u001b[39m\u001b[38;5;241m.\u001b[39mslots[slot \u001b[38;5;241m-\u001b[39m \u001b[38;5;241m1\u001b[39m] \u001b[38;5;241m=\u001b[39m resource\n\u001b[1;32m    104\u001b[0m \u001b[38;5;28msuper\u001b[39m()\u001b[38;5;241m.\u001b[39massign_child_resource(resource, location\u001b[38;5;241m=\u001b[39m\u001b[38;5;28mself\u001b[39m\u001b[38;5;241m.\u001b[39mslot_locations[slot \u001b[38;5;241m-\u001b[39m \u001b[38;5;241m1\u001b[39m])\n",
      "\u001b[0;31mValueError\u001b[0m: Spot 7 is already occupied"
     ]
    }
   ],
   "source": [
    "from pylabrobot.resources.opentrons import (\n",
    "  opentrons_96_tiprack_300ul,\n",
    "  nest_96_wellplate_2ml_deep,\n",
    "  \n",
    ")\n",
    "\n",
    "tip_rack = opentrons_96_tiprack_300ul(name='tip rack')\n",
    "plt = nest_96_wellplate_2ml_deep(name='plate')\n",
    "\n",
    "lh.deck.assign_child_at_slot(tip_rack, slot=7)\n",
    "lh.deck.assign_child_at_slot(plt, slot=4)"
   ]
  },
  {
   "cell_type": "markdown",
   "id": "21835f31",
   "metadata": {},
   "source": [
    "![The simulator after the resources have been assigned](./img/visualizer/assignment.png)"
   ]
  },
  {
   "cell_type": "markdown",
   "id": "68a9721b",
   "metadata": {},
   "source": [
    "### Configuring the state of the deck\n",
    "\n",
    "As with every PyLabRobot script, you have the option of updating the state of the deck before you actually start your method. This will allow PyLabRobot to keep track of what is going on, enabling features like {func}`~pylabrobot.liquid_handling.liquid_handler.LiquidHandler.return_tips` and catching errors (like missed tips) before a command would be executed on the robot. With the visualizer, this state has the additional effect of updating the visualization."
   ]
  },
  {
   "attachments": {},
   "cell_type": "markdown",
   "id": "daf99520",
   "metadata": {},
   "source": [
    "### Tips\n",
    "\n",
    "Let's use {func}`~pylabrobot.resources.tip_rack.fill` to place tips at all spots in the tip rack in location `0`."
   ]
  },
  {
   "cell_type": "code",
   "execution_count": 5,
   "id": "ca3152d0",
   "metadata": {
    "scrolled": true
   },
   "outputs": [],
   "source": [
    "tip_rack.fill()"
   ]
  },
  {
   "attachments": {},
   "cell_type": "markdown",
   "id": "26f036c6",
   "metadata": {},
   "source": [
    "\n",
    "You can precisely control the presence of tips using {func}`~pylabrobot.resources.tip_rack.set_tip_state`. This function allows you to set whether there is a tip in each {class}`~pylabrobot.resources.tip_rack.TipSpot`."
   ]
  },
  {
   "cell_type": "code",
   "execution_count": 6,
   "id": "8e1ed1e6",
   "metadata": {},
   "outputs": [],
   "source": [
    "#tip_rack.set_tip_state(([True]*8 +[False]*8)*6)"
   ]
  },
  {
   "attachments": {},
   "cell_type": "markdown",
   "id": "594d8016",
   "metadata": {},
   "source": [
    "### Liquids\n",
    "\n",
    "Adding liquid to wells works similarly. You can use {func}`~pylabrobot.resources.plate.set_well_liquids` to set the liquid in each well of a plate. Each liquid is represented by a tuple where the first element corresponds to the type of liquid and the second to the volume in uL. Here, `None` is used to designate an unknown liquid."
   ]
  },
  {
   "cell_type": "code",
   "execution_count": 7,
   "id": "0ff6d30e",
   "metadata": {},
   "outputs": [
    {
     "name": "stdout",
     "output_type": "stream",
     "text": [
      "<class 'pylabrobot.resources.plate.Plate'>\n"
     ]
    }
   ],
   "source": [
    "print(type(plt))"
   ]
  },
  {
   "cell_type": "code",
   "execution_count": 8,
   "id": "5b76aac2",
   "metadata": {},
   "outputs": [],
   "source": [
    "plt_1_liquids = [[(None, 300)]]*96\n",
    "plt.set_well_liquids(plt_1_liquids)"
   ]
  },
  {
   "attachments": {},
   "cell_type": "markdown",
   "id": "66281459",
   "metadata": {},
   "source": [
    "In the visualizer, you can see that the opacity of the well is proportional to how full the well is relative to its maximum volume."
   ]
  },
  {
   "cell_type": "markdown",
   "id": "66a27cfc",
   "metadata": {},
   "source": [
    "![Simulator after the tips have been placed and the volumes adjusted](./img/visualizer/resources.png)"
   ]
  },
  {
   "cell_type": "markdown",
   "id": "27af93d8",
   "metadata": {},
   "source": [
    "## Liquid handling\n",
    "\n",
    "Once the layout is complete, you can run the same commands as described in the [basic liquid handling tutorial](../00_liquid-handling/hamilton-star/basic).\n",
    "\n",
    "It is important that both tip tracking and volume tracking are enabled globally, so that the visualizer can keep track of the state of the tips and the volumes of the liquids."
   ]
  },
  {
   "cell_type": "code",
   "execution_count": 13,
   "id": "ce58298d",
   "metadata": {},
   "outputs": [
    {
     "data": {
      "text/plain": [
       "(None, None)"
      ]
     },
     "execution_count": 13,
     "metadata": {},
     "output_type": "execute_result"
    }
   ],
   "source": [
    "from pylabrobot.resources import set_tip_tracking, set_volume_tracking\n",
    "set_tip_tracking(True), set_volume_tracking(True)"
   ]
  },
  {
   "cell_type": "markdown",
   "id": "21c3f2cd",
   "metadata": {},
   "source": [
    "### Picking up tips\n",
    "\n",
    "Note that since we are using the {class}`~pylabrobot.liquid_handling.backends.chatterbox.ChatterboxBackend`, we just print out \"Picking up tips\" instead of actually performing an operation. The visualizer will show the tips being picked up."
   ]
  },
  {
   "cell_type": "code",
   "execution_count": 14,
   "id": "568b794f",
   "metadata": {},
   "outputs": [
    {
     "name": "stdout",
     "output_type": "stream",
     "text": [
      "left_pipette: {'pipetteId': 'sim_left', 'name': 'p300_single'}\n",
      "right_pipette: None\n",
      "left_has_tip: False\n",
      "right_has_tip: False\n"
     ]
    }
   ],
   "source": [
    "print(\"left_pipette:\", lh.backend.left_pipette)\n",
    "print(\"right_pipette:\", lh.backend.right_pipette)\n",
    "print(\"left_has_tip:\", lh.backend.left_pipette_has_tip)\n",
    "print(\"right_has_tip:\", lh.backend.right_pipette_has_tip)"
   ]
  },
  {
   "cell_type": "code",
   "execution_count": 15,
   "id": "f97eadd4",
   "metadata": {},
   "outputs": [],
   "source": [
    "await lh.pick_up_tips(tip_rack[0])"
   ]
  },
  {
   "cell_type": "code",
   "execution_count": 16,
   "id": "bf46e476",
   "metadata": {},
   "outputs": [],
   "source": [
    "await lh.drop_tips(tip_rack[0])"
   ]
  },
  {
   "cell_type": "markdown",
   "id": "5c6948b2",
   "metadata": {},
   "source": [
    "### Aspirating and dispensing"
   ]
  },
  {
   "cell_type": "code",
   "execution_count": 17,
   "id": "947977c7",
   "metadata": {},
   "outputs": [],
   "source": [
    "await lh.pick_up_tips(tip_rack[1])"
   ]
  },
  {
   "cell_type": "code",
   "execution_count": 18,
   "id": "c25a147f",
   "metadata": {},
   "outputs": [],
   "source": [
    "await lh.aspirate(plt[\"A2\"], vols=[200])"
   ]
  },
  {
   "cell_type": "code",
   "execution_count": 19,
   "id": "e86428ea",
   "metadata": {},
   "outputs": [],
   "source": [
    "await lh.dispense(plt[\"A1\"], vols=[200])"
   ]
  },
  {
   "cell_type": "code",
   "execution_count": 20,
   "id": "70117e04",
   "metadata": {},
   "outputs": [],
   "source": [
    "await lh.return_tips()"
   ]
  },
  {
   "cell_type": "code",
   "execution_count": 21,
   "id": "44a61431",
   "metadata": {},
   "outputs": [],
   "source": [
    "await vis.stop()"
   ]
  }
 ],
 "metadata": {
  "kernelspec": {
   "display_name": "pylabrobot",
   "language": "python",
   "name": "python3"
  },
  "language_info": {
   "codemirror_mode": {
    "name": "ipython",
    "version": 3
   },
   "file_extension": ".py",
   "mimetype": "text/x-python",
   "name": "python",
   "nbconvert_exporter": "python",
   "pygments_lexer": "ipython3",
   "version": "3.10.17"
  },
  "toc": {
   "base_numbering": 1,
   "nav_menu": {},
   "number_sections": true,
   "sideBar": true,
   "skip_h1_title": false,
   "title_cell": "Table of Contents",
   "title_sidebar": "Contents",
   "toc_cell": false,
   "toc_position": {},
   "toc_section_display": true,
   "toc_window_display": false
  },
  "varInspector": {
   "cols": {
    "lenName": 16,
    "lenType": 16,
    "lenVar": 40
   },
   "kernels_config": {
    "python": {
     "delete_cmd_postfix": "",
     "delete_cmd_prefix": "del ",
     "library": "var_list.py",
     "varRefreshCmd": "print(var_dic_list())"
    },
    "r": {
     "delete_cmd_postfix": ") ",
     "delete_cmd_prefix": "rm(",
     "library": "var_list.r",
     "varRefreshCmd": "cat(var_dic_list()) "
    }
   },
   "types_to_exclude": [
    "module",
    "function",
    "builtin_function_or_method",
    "instance",
    "_Feature"
   ],
   "window_display": false
  }
 },
 "nbformat": 4,
 "nbformat_minor": 5
}
