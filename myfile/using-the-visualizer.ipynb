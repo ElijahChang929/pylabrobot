{
 "cells": [
  {
   "cell_type": "markdown",
   "id": "c3c71913",
   "metadata": {},
   "source": [
    "# Using the Visualizer\n",
    "\n",
    "The Visualizer is a tool that allows you to visualize the a Resource (like LiquidHandler) including its state to easily see what is going on, for example when executing a protocol on a robot or when developing a new protocol.\n",
    "\n",
    "When using a backend that does not require access to a physical robot, such as the {class}`~pylabrobot.liquid_handling.backends.chatterbox.ChatterboxBackend`, the Visualizer can be used to simulate a robot's behavior. Of course, you may also use the Visualizer when working with a real robot to see what is happening in the PLR resource and state trackers."
   ]
  },
  {
   "attachments": {},
   "cell_type": "markdown",
   "id": "d6cdca52",
   "metadata": {},
   "source": [
    "## Setting up a connection with the robot\n",
    "\n",
    "As described in the [basic liquid handling tutorial](../00_liquid-handling/hamilton-star/basic), we will use the {class}`~pylabrobot.liquid_handling.liquid_handler.LiquidHandler` class to control the robot. This time, however, instead of using the Hamilton {class}`~pylabrobot.liquid_handling.backends.hamilton.STAR.STAR` backend, we are using the software-only {class}`~pylabrobot.liquid_handling.backends.chatterbox.ChatterboxBackend` backend. This means that liquid handling will work exactly the same, but commands are simply printed out to the console instead of being sent to a physical robot. We are still using the same deck."
   ]
  },
  {
   "cell_type": "code",
   "execution_count": 1,
   "id": "7c5a2629",
   "metadata": {},
   "outputs": [],
   "source": [
    "from pylabrobot.liquid_handling import LiquidHandler\n",
    "from pylabrobot.visualizer.visualizer import Visualizer"
   ]
  },
  {
   "cell_type": "code",
   "execution_count": 2,
   "id": "272520d3",
   "metadata": {},
   "outputs": [],
   "source": [
    "from pylabrobot.resources.opentrons import OTDeck\n",
    "from pylabrobot.liquid_handling.backends.opentrons_backend import OpentronsBackend"
   ]
  },
  {
   "cell_type": "code",
   "execution_count": 3,
   "id": "7061c04a",
   "metadata": {},
   "outputs": [],
   "source": [
    "backend = OpentronsBackend(host=\"localhost\", simulation=True)"
   ]
  },
  {
   "cell_type": "code",
   "execution_count": 4,
   "id": "2e280caa",
   "metadata": {},
   "outputs": [],
   "source": [
    "lh = LiquidHandler(backend=backend, deck=OTDeck())"
   ]
  },
  {
   "attachments": {},
   "cell_type": "markdown",
   "id": "30dcf4a1",
   "metadata": {},
   "source": [
    "Calling {func}`~pylabrobot.liquid_handling.liquid_handler.LiquidHandler.setup` will print out \"Setting up the robot\" and also that two resources were assigned: the deck and the trash. Other than that, the chatter box backend has no setup to do."
   ]
  },
  {
   "cell_type": "code",
   "execution_count": 5,
   "id": "1419f2b3",
   "metadata": {},
   "outputs": [],
   "source": [
    "await lh.setup()"
   ]
  },
  {
   "cell_type": "markdown",
   "id": "871184ce",
   "metadata": {},
   "source": [
    "Next, we will create a {class}`~pylabrobot.visualizer.visualizer.Visualizer` object. The Visualizer expects a Resource, and we will pass the {class}`~pylabrobot.liquid_handling.liquid_handler.LiquidHandler` object to it. This will allow us to visualize the robot's state and actions."
   ]
  },
  {
   "cell_type": "code",
   "execution_count": 6,
   "id": "165c9de4",
   "metadata": {},
   "outputs": [
    {
     "name": "stdout",
     "output_type": "stream",
     "text": [
      "Websocket server started at http://127.0.0.1:2122\n",
      "File server started at http://127.0.0.1:1338 . Open this URL in your browser.\n"
     ]
    }
   ],
   "source": [
    "vis = Visualizer(resource=lh)\n",
    "await vis.setup()"
   ]
  },
  {
   "cell_type": "markdown",
   "id": "3002429b",
   "metadata": {},
   "source": [
    "![The empty simulator](./img/visualizer/empty.png)"
   ]
  },
  {
   "attachments": {},
   "cell_type": "markdown",
   "id": "050ccefd",
   "metadata": {},
   "source": [
    "## Build the deck layout: Assigning plates and tips\n",
    "\n",
    "When resources are assigned to the root resource of the Visualizer, in this case `lh`, they will automatically appear in the visualization."
   ]
  },
  {
   "cell_type": "code",
   "execution_count": 7,
   "id": "33fed286",
   "metadata": {},
   "outputs": [],
   "source": [
    "from typing import cast\n",
    "\n",
    "from pylabrobot.resources.tip_rack import TipRack\n"
   ]
  },
  {
   "cell_type": "code",
   "execution_count": 8,
   "id": "b14e3628",
   "metadata": {},
   "outputs": [],
   "source": [
    "from pylabrobot.resources.opentrons import (\n",
    "  opentrons_96_tiprack_300ul,\n",
    "  nest_96_wellplate_2ml_deep\n",
    ")\n",
    "\n",
    "tip_rack = opentrons_96_tiprack_300ul(name='tip rack')\n",
    "plt = nest_96_wellplate_2ml_deep(name='plate')\n",
    "\n",
    "lh.deck.assign_child_at_slot(tip_rack, slot=7)\n",
    "lh.deck.assign_child_at_slot(plt, slot=4)"
   ]
  },
  {
   "cell_type": "markdown",
   "id": "21835f31",
   "metadata": {},
   "source": [
    "![The simulator after the resources have been assigned](./img/visualizer/assignment.png)"
   ]
  },
  {
   "cell_type": "markdown",
   "id": "68a9721b",
   "metadata": {},
   "source": [
    "### Configuring the state of the deck\n",
    "\n",
    "As with every PyLabRobot script, you have the option of updating the state of the deck before you actually start your method. This will allow PyLabRobot to keep track of what is going on, enabling features like {func}`~pylabrobot.liquid_handling.liquid_handler.LiquidHandler.return_tips` and catching errors (like missed tips) before a command would be executed on the robot. With the visualizer, this state has the additional effect of updating the visualization."
   ]
  },
  {
   "attachments": {},
   "cell_type": "markdown",
   "id": "daf99520",
   "metadata": {},
   "source": [
    "### Tips\n",
    "\n",
    "Let's use {func}`~pylabrobot.resources.tip_rack.fill` to place tips at all spots in the tip rack in location `0`."
   ]
  },
  {
   "cell_type": "code",
   "execution_count": 9,
   "id": "ca3152d0",
   "metadata": {
    "scrolled": true
   },
   "outputs": [],
   "source": [
    "tip_rack.fill()"
   ]
  },
  {
   "attachments": {},
   "cell_type": "markdown",
   "id": "26f036c6",
   "metadata": {},
   "source": [
    "\n",
    "You can precisely control the presence of tips using {func}`~pylabrobot.resources.tip_rack.set_tip_state`. This function allows you to set whether there is a tip in each {class}`~pylabrobot.resources.tip_rack.TipSpot`."
   ]
  },
  {
   "cell_type": "code",
   "execution_count": 10,
   "id": "8e1ed1e6",
   "metadata": {},
   "outputs": [],
   "source": [
    "#tip_rack.set_tip_state(([True]*8 +[False]*8)*6)"
   ]
  },
  {
   "attachments": {},
   "cell_type": "markdown",
   "id": "594d8016",
   "metadata": {},
   "source": [
    "### Liquids\n",
    "\n",
    "Adding liquid to wells works similarly. You can use {func}`~pylabrobot.resources.plate.set_well_liquids` to set the liquid in each well of a plate. Each liquid is represented by a tuple where the first element corresponds to the type of liquid and the second to the volume in uL. Here, `None` is used to designate an unknown liquid."
   ]
  },
  {
   "cell_type": "code",
   "execution_count": 11,
   "id": "5b76aac2",
   "metadata": {},
   "outputs": [],
   "source": [
    "plt_1_liquids = [[(None, 300)]]*96\n",
    "plt.set_well_liquids(plt_1_liquids)"
   ]
  },
  {
   "attachments": {},
   "cell_type": "markdown",
   "id": "66281459",
   "metadata": {},
   "source": [
    "In the visualizer, you can see that the opacity of the well is proportional to how full the well is relative to its maximum volume."
   ]
  },
  {
   "cell_type": "markdown",
   "id": "66a27cfc",
   "metadata": {},
   "source": [
    "![Simulator after the tips have been placed and the volumes adjusted](./img/visualizer/resources.png)"
   ]
  },
  {
   "cell_type": "markdown",
   "id": "27af93d8",
   "metadata": {},
   "source": [
    "## Liquid handling\n",
    "\n",
    "Once the layout is complete, you can run the same commands as described in the [basic liquid handling tutorial](../00_liquid-handling/hamilton-star/basic).\n",
    "\n",
    "It is important that both tip tracking and volume tracking are enabled globally, so that the visualizer can keep track of the state of the tips and the volumes of the liquids."
   ]
  },
  {
   "cell_type": "code",
   "execution_count": 12,
   "id": "ce58298d",
   "metadata": {},
   "outputs": [
    {
     "data": {
      "text/plain": [
       "(None, None)"
      ]
     },
     "execution_count": 12,
     "metadata": {},
     "output_type": "execute_result"
    }
   ],
   "source": [
    "from pylabrobot.resources import set_tip_tracking, set_volume_tracking\n",
    "set_tip_tracking(True), set_volume_tracking(True)"
   ]
  },
  {
   "cell_type": "markdown",
   "id": "21c3f2cd",
   "metadata": {},
   "source": [
    "### Picking up tips\n",
    "\n",
    "Note that since we are using the {class}`~pylabrobot.liquid_handling.backends.chatterbox.ChatterboxBackend`, we just print out \"Picking up tips\" instead of actually performing an operation. The visualizer will show the tips being picked up."
   ]
  },
  {
   "cell_type": "code",
   "execution_count": 13,
   "id": "568b794f",
   "metadata": {},
   "outputs": [
    {
     "name": "stdout",
     "output_type": "stream",
     "text": [
      "left_pipette: {'pipetteId': 'sim_left', 'name': 'p300_single'}\n",
      "right_pipette: None\n",
      "left_has_tip: False\n",
      "right_has_tip: False\n"
     ]
    }
   ],
   "source": [
    "print(\"left_pipette:\", lh.backend.left_pipette)\n",
    "print(\"right_pipette:\", lh.backend.right_pipette)\n",
    "print(\"left_has_tip:\", lh.backend.left_pipette_has_tip)\n",
    "print(\"right_has_tip:\", lh.backend.right_pipette_has_tip)"
   ]
  },
  {
   "cell_type": "code",
   "execution_count": 14,
   "id": "f97eadd4",
   "metadata": {},
   "outputs": [
    {
     "ename": "TypeError",
     "evalue": "No run_id given. Please pass run_id as a parameter or use ot_api.set_run_id()",
     "output_type": "error",
     "traceback": [
      "\u001b[0;31m---------------------------------------------------------------------------\u001b[0m",
      "\u001b[0;31mTypeError\u001b[0m                                 Traceback (most recent call last)",
      "Cell \u001b[0;32mIn[14], line 1\u001b[0m\n\u001b[0;32m----> 1\u001b[0m \u001b[38;5;28;01mawait\u001b[39;00m lh\u001b[38;5;241m.\u001b[39mpick_up_tips(tip_rack[\u001b[38;5;241m0\u001b[39m])\n",
      "File \u001b[0;32m~/Documents/Deep Potential/pylabrobot/pylabrobot/machines/machine.py:35\u001b[0m, in \u001b[0;36mneed_setup_finished.<locals>.wrapper\u001b[0;34m(*args, **kwargs)\u001b[0m\n\u001b[1;32m     33\u001b[0m \u001b[38;5;28;01mif\u001b[39;00m \u001b[38;5;129;01mnot\u001b[39;00m \u001b[38;5;28mself\u001b[39m\u001b[38;5;241m.\u001b[39msetup_finished:\n\u001b[1;32m     34\u001b[0m   \u001b[38;5;28;01mraise\u001b[39;00m \u001b[38;5;167;01mRuntimeError\u001b[39;00m(\u001b[38;5;124m\"\u001b[39m\u001b[38;5;124mThe setup has not finished. See `setup`.\u001b[39m\u001b[38;5;124m\"\u001b[39m)\n\u001b[0;32m---> 35\u001b[0m \u001b[38;5;28;01mreturn\u001b[39;00m \u001b[38;5;28;01mawait\u001b[39;00m func(\u001b[38;5;241m*\u001b[39margs, \u001b[38;5;241m*\u001b[39m\u001b[38;5;241m*\u001b[39mkwargs)\n",
      "File \u001b[0;32m~/Documents/Deep Potential/pylabrobot/pylabrobot/liquid_handling/liquid_handler.py:467\u001b[0m, in \u001b[0;36mLiquidHandler.pick_up_tips\u001b[0;34m(self, tip_spots, use_channels, offsets, **backend_kwargs)\u001b[0m\n\u001b[1;32m    464\u001b[0m   (\u001b[38;5;28mself\u001b[39m\u001b[38;5;241m.\u001b[39mhead[channel]\u001b[38;5;241m.\u001b[39mcommit \u001b[38;5;28;01mif\u001b[39;00m success \u001b[38;5;28;01melse\u001b[39;00m \u001b[38;5;28mself\u001b[39m\u001b[38;5;241m.\u001b[39mhead[channel]\u001b[38;5;241m.\u001b[39mrollback)()\n\u001b[1;32m    466\u001b[0m \u001b[38;5;66;03m# trigger callback\u001b[39;00m\n\u001b[0;32m--> 467\u001b[0m \u001b[38;5;28;43mself\u001b[39;49m\u001b[38;5;241;43m.\u001b[39;49m\u001b[43m_trigger_callback\u001b[49m\u001b[43m(\u001b[49m\n\u001b[1;32m    468\u001b[0m \u001b[43m  \u001b[49m\u001b[38;5;124;43m\"\u001b[39;49m\u001b[38;5;124;43mpick_up_tips\u001b[39;49m\u001b[38;5;124;43m\"\u001b[39;49m\u001b[43m,\u001b[49m\n\u001b[1;32m    469\u001b[0m \u001b[43m  \u001b[49m\u001b[43mliquid_handler\u001b[49m\u001b[38;5;241;43m=\u001b[39;49m\u001b[38;5;28;43mself\u001b[39;49m\u001b[43m,\u001b[49m\n\u001b[1;32m    470\u001b[0m \u001b[43m  \u001b[49m\u001b[43moperations\u001b[49m\u001b[38;5;241;43m=\u001b[39;49m\u001b[43mpickups\u001b[49m\u001b[43m,\u001b[49m\n\u001b[1;32m    471\u001b[0m \u001b[43m  \u001b[49m\u001b[43muse_channels\u001b[49m\u001b[38;5;241;43m=\u001b[39;49m\u001b[43muse_channels\u001b[49m\u001b[43m,\u001b[49m\n\u001b[1;32m    472\u001b[0m \u001b[43m  \u001b[49m\u001b[43merror\u001b[49m\u001b[38;5;241;43m=\u001b[39;49m\u001b[43merror\u001b[49m\u001b[43m,\u001b[49m\n\u001b[1;32m    473\u001b[0m \u001b[43m  \u001b[49m\u001b[38;5;241;43m*\u001b[39;49m\u001b[38;5;241;43m*\u001b[39;49m\u001b[43mbackend_kwargs\u001b[49m\u001b[43m,\u001b[49m\n\u001b[1;32m    474\u001b[0m \u001b[43m\u001b[49m\u001b[43m)\u001b[49m\n",
      "File \u001b[0;32m~/Documents/Deep Potential/pylabrobot/pylabrobot/liquid_handling/liquid_handler.py:2210\u001b[0m, in \u001b[0;36mLiquidHandler._trigger_callback\u001b[0;34m(self, method_name, error, *args, **kwargs)\u001b[0m\n\u001b[1;32m   2208\u001b[0m   callback(\u001b[38;5;28mself\u001b[39m, \u001b[38;5;241m*\u001b[39margs, error\u001b[38;5;241m=\u001b[39merror, \u001b[38;5;241m*\u001b[39m\u001b[38;5;241m*\u001b[39mkwargs)\n\u001b[1;32m   2209\u001b[0m \u001b[38;5;28;01melif\u001b[39;00m error \u001b[38;5;129;01mis\u001b[39;00m \u001b[38;5;129;01mnot\u001b[39;00m \u001b[38;5;28;01mNone\u001b[39;00m:\n\u001b[0;32m-> 2210\u001b[0m   \u001b[38;5;28;01mraise\u001b[39;00m error\n",
      "File \u001b[0;32m~/Documents/Deep Potential/pylabrobot/pylabrobot/liquid_handling/liquid_handler.py:451\u001b[0m, in \u001b[0;36mLiquidHandler.pick_up_tips\u001b[0;34m(self, tip_spots, use_channels, offsets, **backend_kwargs)\u001b[0m\n\u001b[1;32m    449\u001b[0m error: Optional[\u001b[38;5;167;01mException\u001b[39;00m] \u001b[38;5;241m=\u001b[39m \u001b[38;5;28;01mNone\u001b[39;00m\n\u001b[1;32m    450\u001b[0m \u001b[38;5;28;01mtry\u001b[39;00m:\n\u001b[0;32m--> 451\u001b[0m   \u001b[38;5;28;01mawait\u001b[39;00m \u001b[38;5;28mself\u001b[39m\u001b[38;5;241m.\u001b[39mbackend\u001b[38;5;241m.\u001b[39mpick_up_tips(ops\u001b[38;5;241m=\u001b[39mpickups, use_channels\u001b[38;5;241m=\u001b[39muse_channels, \u001b[38;5;241m*\u001b[39m\u001b[38;5;241m*\u001b[39mbackend_kwargs)\n\u001b[1;32m    452\u001b[0m \u001b[38;5;28;01mexcept\u001b[39;00m \u001b[38;5;167;01mException\u001b[39;00m \u001b[38;5;28;01mas\u001b[39;00m e:\n\u001b[1;32m    453\u001b[0m   error \u001b[38;5;241m=\u001b[39m e\n",
      "File \u001b[0;32m~/Documents/Deep Potential/pylabrobot/pylabrobot/liquid_handling/backends/opentrons_backend.py:390\u001b[0m, in \u001b[0;36mOpentronsBackend.pick_up_tips\u001b[0;34m(self, ops, use_channels)\u001b[0m\n\u001b[1;32m    387\u001b[0m \u001b[38;5;66;03m# ad-hoc offset adjustment that makes it smoother.\u001b[39;00m\n\u001b[1;32m    388\u001b[0m offset_z \u001b[38;5;241m+\u001b[39m\u001b[38;5;241m=\u001b[39m op\u001b[38;5;241m.\u001b[39mtip\u001b[38;5;241m.\u001b[39mtotal_tip_length\n\u001b[0;32m--> 390\u001b[0m \u001b[43mot_api\u001b[49m\u001b[38;5;241;43m.\u001b[39;49m\u001b[43mlh\u001b[49m\u001b[38;5;241;43m.\u001b[39;49m\u001b[43mpick_up_tip\u001b[49m\u001b[43m(\u001b[49m\n\u001b[1;32m    391\u001b[0m \u001b[43m  \u001b[49m\u001b[43mlabware_id\u001b[49m\u001b[43m,\u001b[49m\n\u001b[1;32m    392\u001b[0m \u001b[43m  \u001b[49m\u001b[43mwell_name\u001b[49m\u001b[38;5;241;43m=\u001b[39;49m\u001b[43mop\u001b[49m\u001b[38;5;241;43m.\u001b[39;49m\u001b[43mresource\u001b[49m\u001b[38;5;241;43m.\u001b[39;49m\u001b[43mname\u001b[49m\u001b[43m,\u001b[49m\n\u001b[1;32m    393\u001b[0m \u001b[43m  \u001b[49m\u001b[43mpipette_id\u001b[49m\u001b[38;5;241;43m=\u001b[39;49m\u001b[43mpipette_id\u001b[49m\u001b[43m,\u001b[49m\n\u001b[1;32m    394\u001b[0m \u001b[43m  \u001b[49m\u001b[43moffset_x\u001b[49m\u001b[38;5;241;43m=\u001b[39;49m\u001b[43moffset_x\u001b[49m\u001b[43m,\u001b[49m\n\u001b[1;32m    395\u001b[0m \u001b[43m  \u001b[49m\u001b[43moffset_y\u001b[49m\u001b[38;5;241;43m=\u001b[39;49m\u001b[43moffset_y\u001b[49m\u001b[43m,\u001b[49m\n\u001b[1;32m    396\u001b[0m \u001b[43m  \u001b[49m\u001b[43moffset_z\u001b[49m\u001b[38;5;241;43m=\u001b[39;49m\u001b[43moffset_z\u001b[49m\u001b[43m,\u001b[49m\n\u001b[1;32m    397\u001b[0m \u001b[43m\u001b[49m\u001b[43m)\u001b[49m\n\u001b[1;32m    399\u001b[0m \u001b[38;5;28;01mif\u001b[39;00m \u001b[38;5;28mself\u001b[39m\u001b[38;5;241m.\u001b[39mleft_pipette \u001b[38;5;129;01mis\u001b[39;00m \u001b[38;5;129;01mnot\u001b[39;00m \u001b[38;5;28;01mNone\u001b[39;00m \u001b[38;5;129;01mand\u001b[39;00m pipette_id \u001b[38;5;241m==\u001b[39m \u001b[38;5;28mself\u001b[39m\u001b[38;5;241m.\u001b[39mleft_pipette[\u001b[38;5;124m\"\u001b[39m\u001b[38;5;124mpipetteId\u001b[39m\u001b[38;5;124m\"\u001b[39m]:\n\u001b[1;32m    400\u001b[0m   \u001b[38;5;28mself\u001b[39m\u001b[38;5;241m.\u001b[39mleft_pipette_has_tip \u001b[38;5;241m=\u001b[39m \u001b[38;5;28;01mTrue\u001b[39;00m\n",
      "File \u001b[0;32m/opt/anaconda3/envs/pylabrobot/lib/python3.10/site-packages/ot_api/decorators.py:20\u001b[0m, in \u001b[0;36mrequest_with_run_id.<locals>.wrapper\u001b[0;34m(*args, **kwargs)\u001b[0m\n\u001b[1;32m     18\u001b[0m   run_id \u001b[38;5;241m=\u001b[39m ot_api\u001b[38;5;241m.\u001b[39mrun_id\n\u001b[1;32m     19\u001b[0m   \u001b[38;5;28;01mif\u001b[39;00m run_id \u001b[38;5;129;01mis\u001b[39;00m \u001b[38;5;28;01mNone\u001b[39;00m:\n\u001b[0;32m---> 20\u001b[0m     \u001b[38;5;28;01mraise\u001b[39;00m \u001b[38;5;167;01mTypeError\u001b[39;00m(\u001b[38;5;124m\"\u001b[39m\u001b[38;5;124mNo run_id given. Please pass run_id as a parameter or use ot_api.set_run_id()\u001b[39m\u001b[38;5;124m\"\u001b[39m)\n\u001b[1;32m     21\u001b[0m   kwargs[\u001b[38;5;124m\"\u001b[39m\u001b[38;5;124mrun_id\u001b[39m\u001b[38;5;124m\"\u001b[39m] \u001b[38;5;241m=\u001b[39m run_id\n\u001b[1;32m     23\u001b[0m \u001b[38;5;28;01mtry\u001b[39;00m:\n",
      "\u001b[0;31mTypeError\u001b[0m: No run_id given. Please pass run_id as a parameter or use ot_api.set_run_id()"
     ]
    }
   ],
   "source": [
    "await lh.pick_up_tips(tip_rack[0])"
   ]
  },
  {
   "cell_type": "code",
   "execution_count": 22,
   "id": "bf46e476",
   "metadata": {},
   "outputs": [
    {
     "name": "stdout",
     "output_type": "stream",
     "text": [
      "Dropping tips:\n",
      "pip#  resource             offset           tip type     max volume (µL)  fitting depth (mm)   tip length (mm)  filter    \n",
      "  p0: tips_01_tipspot_0_0  0,0,0            HamiltonTip  1065             8                    95.1             Yes       \n",
      "  p1: tips_01_tipspot_1_1  0,0,0            HamiltonTip  1065             8                    95.1             Yes       \n",
      "  p2: tips_01_tipspot_2_2  0,0,0            HamiltonTip  1065             8                    95.1             Yes       \n",
      "  p3: tips_01_tipspot_3_3  0,0,0            HamiltonTip  1065             8                    95.1             Yes       \n"
     ]
    }
   ],
   "source": [
    "await lh.drop_tips(tip_rack1[\"A1\", \"B2\", \"C3\", \"D4\"])"
   ]
  },
  {
   "cell_type": "markdown",
   "id": "5c6948b2",
   "metadata": {},
   "source": [
    "### Aspirating and dispensing"
   ]
  },
  {
   "cell_type": "code",
   "execution_count": 23,
   "id": "947977c7",
   "metadata": {},
   "outputs": [
    {
     "name": "stdout",
     "output_type": "stream",
     "text": [
      "Picking up tips:\n",
      "pip#  resource             offset           tip type     max volume (µL)  fitting depth (mm)   tip length (mm)  filter    \n",
      "  p0: tips_01_tipspot_0_0  0,0,0            HamiltonTip  1065             8                    95.1             Yes       \n"
     ]
    }
   ],
   "source": [
    "await lh.pick_up_tips(tip_rack1[\"A1\"])"
   ]
  },
  {
   "cell_type": "code",
   "execution_count": 24,
   "id": "c25a147f",
   "metadata": {},
   "outputs": [
    {
     "name": "stdout",
     "output_type": "stream",
     "text": [
      "Aspirating:\n",
      "pip#  vol(ul)  resource             offset           flow rate  blowout    lld_z       \n",
      "  p0: 200.0    plate_01_well_1_0    0,0,0            None       None       None       \n"
     ]
    }
   ],
   "source": [
    "await lh.aspirate(plate_1[\"A2\"], vols=[200])"
   ]
  },
  {
   "cell_type": "code",
   "execution_count": 25,
   "id": "e86428ea",
   "metadata": {},
   "outputs": [
    {
     "name": "stdout",
     "output_type": "stream",
     "text": [
      "Dispensing:\n",
      "pip#  vol(ul)  resource             offset           flow rate  blowout    lld_z       \n",
      "  p0: 200.0    plate_02_well_0_0    0,0,0            None       None       None       \n"
     ]
    }
   ],
   "source": [
    "await lh.dispense(plate_2[\"A1\"], vols=[200])"
   ]
  },
  {
   "cell_type": "code",
   "execution_count": 26,
   "id": "70117e04",
   "metadata": {},
   "outputs": [
    {
     "name": "stdout",
     "output_type": "stream",
     "text": [
      "Dropping tips:\n",
      "pip#  resource             offset           tip type     max volume (µL)  fitting depth (mm)   tip length (mm)  filter    \n",
      "  p0: tips_01_tipspot_0_0  0,0,0            HamiltonTip  1065             8                    95.1             Yes       \n"
     ]
    }
   ],
   "source": [
    "await lh.return_tips()"
   ]
  },
  {
   "attachments": {},
   "cell_type": "markdown",
   "id": "8a8b3d59",
   "metadata": {},
   "source": [
    "### Aspirating using CoRe 96\n",
    "\n",
    "The CoRe 96 head supports liquid handling operations for 96 channels at once. Here's how to use:\n",
    "\n",
    "- {func}`~pylabrobot.liquid_handling.liquid_handler.LiquidHandler.pick_up_tips96` for picking up 96 tips;\n",
    "- {func}`~pylabrobot.liquid_handling.liquid_handler.LiquidHandler.aspirate96` for aspirating liquid from an entire plate at once;\n",
    "- {func}`~pylabrobot.liquid_handling.liquid_handler.LiquidHandler.dispense96` for dispensing liquid to an entire plate at once;\n",
    "- {func}`~pylabrobot.liquid_handling.liquid_handler.LiquidHandler.drop_tips96` for dropping tips to the tip rack.\n"
   ]
  },
  {
   "cell_type": "code",
   "execution_count": 27,
   "id": "b8c5706d",
   "metadata": {},
   "outputs": [
    {
     "name": "stdout",
     "output_type": "stream",
     "text": [
      "Picking up tips from tips_01.\n"
     ]
    }
   ],
   "source": [
    "await lh.pick_up_tips96(tip_rack1)"
   ]
  },
  {
   "cell_type": "code",
   "execution_count": 28,
   "id": "c09144c9",
   "metadata": {},
   "outputs": [
    {
     "name": "stdout",
     "output_type": "stream",
     "text": [
      "Aspirating 100.0 from Plate(name=plate_01, size_x=127.76, size_y=85.48, size_z=14.2, location=Coordinate(000.000, 000.000, -03.030)).\n"
     ]
    }
   ],
   "source": [
    "await lh.aspirate96(plate_1, volume=100)"
   ]
  },
  {
   "cell_type": "code",
   "execution_count": 29,
   "id": "2ba711bb",
   "metadata": {},
   "outputs": [
    {
     "name": "stdout",
     "output_type": "stream",
     "text": [
      "Dispensing 100.0 to Plate(name=plate_03, size_x=127.76, size_y=85.48, size_z=14.2, location=Coordinate(000.000, 000.000, -03.030)).\n"
     ]
    }
   ],
   "source": [
    "await lh.dispense96(plate_3, volume=100)"
   ]
  },
  {
   "cell_type": "code",
   "execution_count": 30,
   "id": "6d205ea7",
   "metadata": {},
   "outputs": [
    {
     "name": "stdout",
     "output_type": "stream",
     "text": [
      "Dropping tips to tips_01.\n"
     ]
    }
   ],
   "source": [
    "await lh.drop_tips96(tip_rack1)"
   ]
  },
  {
   "cell_type": "markdown",
   "id": "9cc77505",
   "metadata": {},
   "source": [
    "![The simulator after the liquid handling operations completed](./img/visualizer/after_lh.png)"
   ]
  },
  {
   "attachments": {},
   "cell_type": "markdown",
   "id": "e49020a5",
   "metadata": {},
   "source": [
    "## Shutting down\n",
    "\n",
    "When you're done, you can stop the visualizer by calling {func}`~pylabrobot.visualizer.visualizer.Visualizer.stop`. This will stop the visualization."
   ]
  },
  {
   "cell_type": "code",
   "execution_count": 13,
   "id": "44a61431",
   "metadata": {},
   "outputs": [],
   "source": [
    "await vis.stop()"
   ]
  }
 ],
 "metadata": {
  "kernelspec": {
   "display_name": "pylabrobot",
   "language": "python",
   "name": "python3"
  },
  "language_info": {
   "codemirror_mode": {
    "name": "ipython",
    "version": 3
   },
   "file_extension": ".py",
   "mimetype": "text/x-python",
   "name": "python",
   "nbconvert_exporter": "python",
   "pygments_lexer": "ipython3",
   "version": "3.10.17"
  },
  "toc": {
   "base_numbering": 1,
   "nav_menu": {},
   "number_sections": true,
   "sideBar": true,
   "skip_h1_title": false,
   "title_cell": "Table of Contents",
   "title_sidebar": "Contents",
   "toc_cell": false,
   "toc_position": {},
   "toc_section_display": true,
   "toc_window_display": false
  },
  "varInspector": {
   "cols": {
    "lenName": 16,
    "lenType": 16,
    "lenVar": 40
   },
   "kernels_config": {
    "python": {
     "delete_cmd_postfix": "",
     "delete_cmd_prefix": "del ",
     "library": "var_list.py",
     "varRefreshCmd": "print(var_dic_list())"
    },
    "r": {
     "delete_cmd_postfix": ") ",
     "delete_cmd_prefix": "rm(",
     "library": "var_list.r",
     "varRefreshCmd": "cat(var_dic_list()) "
    }
   },
   "types_to_exclude": [
    "module",
    "function",
    "builtin_function_or_method",
    "instance",
    "_Feature"
   ],
   "window_display": false
  }
 },
 "nbformat": 4,
 "nbformat_minor": 5
}
