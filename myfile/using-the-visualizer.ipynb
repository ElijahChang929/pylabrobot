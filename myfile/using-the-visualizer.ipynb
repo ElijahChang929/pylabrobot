{
 "cells": [
  {
   "cell_type": "code",
   "execution_count": 4,
   "id": "272520d3",
   "metadata": {},
   "outputs": [
    {
     "name": "stdout",
     "output_type": "stream",
     "text": [
      "Websocket server started at http://127.0.0.1:2121\n",
      "File server started at http://127.0.0.1:1337 . Open this URL in your browser.\n"
     ]
    }
   ],
   "source": [
    "from pylabrobot.liquid_handling import LiquidHandler\n",
    "from pylabrobot.visualizer.visualizer import Visualizer\n",
    "from pylabrobot.liquid_handling.backends.opentrons_backend_jump import OpentronsBackend\n",
    "from pylabrobot.resources.opentrons import OTDeck\n",
    "backend = OpentronsBackend(host=\"localhost\", simulation=True)\n",
    "lh = LiquidHandler(backend=backend, deck=OTDeck())\n",
    "await lh.setup()\n",
    "vis = Visualizer(resource=lh)\n",
    "await vis.setup()"
   ]
  },
  {
   "cell_type": "code",
   "execution_count": null,
   "id": "165c9de4",
   "metadata": {},
   "outputs": [
    {
     "name": "stdout",
     "output_type": "stream",
     "text": [
      "Websocket server started at http://127.0.0.1:2122\n",
      "File server started at http://127.0.0.1:1338 . Open this URL in your browser.\n"
     ]
    }
   ],
   "source": [
    "\n"
   ]
  },
  {
   "cell_type": "markdown",
   "id": "3002429b",
   "metadata": {},
   "source": [
    "![The empty simulator](./img/visualizer/empty.png)"
   ]
  },
  {
   "attachments": {},
   "cell_type": "markdown",
   "id": "050ccefd",
   "metadata": {},
   "source": [
    "## Build the deck layout: Assigning plates and tips\n",
    "\n",
    "When resources are assigned to the root resource of the Visualizer, in this case `lh`, they will automatically appear in the visualization."
   ]
  },
  {
   "cell_type": "code",
   "execution_count": 3,
   "id": "33fed286",
   "metadata": {},
   "outputs": [],
   "source": [
    "from typing import cast\n",
    "\n",
    "from pylabrobot.resources.tip_rack import TipRack\n"
   ]
  },
  {
   "cell_type": "code",
   "execution_count": 9,
   "id": "b14e3628",
   "metadata": {},
   "outputs": [],
   "source": [
    "from pylabrobot.resources.opentrons import (\n",
    "  opentrons_96_tiprack_300ul,\n",
    "  nest_96_wellplate_2ml_deep\n",
    ")\n",
    "\n",
    "tip_rack = opentrons_96_tiprack_300ul(name='tip rack')\n",
    "plt = nest_96_wellplate_2ml_deep(name='plate')\n",
    "\n",
    "lh.deck.assign_child_at_slot(tip_rack, slot=7)\n",
    "lh.deck.assign_child_at_slot(plt, slot=4)"
   ]
  },
  {
   "cell_type": "markdown",
   "id": "21835f31",
   "metadata": {},
   "source": [
    "![The simulator after the resources have been assigned](./img/visualizer/assignment.png)"
   ]
  },
  {
   "cell_type": "markdown",
   "id": "68a9721b",
   "metadata": {},
   "source": [
    "### Configuring the state of the deck\n",
    "\n",
    "As with every PyLabRobot script, you have the option of updating the state of the deck before you actually start your method. This will allow PyLabRobot to keep track of what is going on, enabling features like {func}`~pylabrobot.liquid_handling.liquid_handler.LiquidHandler.return_tips` and catching errors (like missed tips) before a command would be executed on the robot. With the visualizer, this state has the additional effect of updating the visualization."
   ]
  },
  {
   "attachments": {},
   "cell_type": "markdown",
   "id": "daf99520",
   "metadata": {},
   "source": [
    "### Tips\n",
    "\n",
    "Let's use {func}`~pylabrobot.resources.tip_rack.fill` to place tips at all spots in the tip rack in location `0`."
   ]
  },
  {
   "cell_type": "code",
   "execution_count": 10,
   "id": "ca3152d0",
   "metadata": {
    "scrolled": true
   },
   "outputs": [],
   "source": [
    "tip_rack.fill()"
   ]
  },
  {
   "attachments": {},
   "cell_type": "markdown",
   "id": "26f036c6",
   "metadata": {},
   "source": [
    "\n",
    "You can precisely control the presence of tips using {func}`~pylabrobot.resources.tip_rack.set_tip_state`. This function allows you to set whether there is a tip in each {class}`~pylabrobot.resources.tip_rack.TipSpot`."
   ]
  },
  {
   "cell_type": "code",
   "execution_count": 11,
   "id": "8e1ed1e6",
   "metadata": {},
   "outputs": [],
   "source": [
    "#tip_rack.set_tip_state(([True]*8 +[False]*8)*6)"
   ]
  },
  {
   "attachments": {},
   "cell_type": "markdown",
   "id": "594d8016",
   "metadata": {},
   "source": [
    "### Liquids\n",
    "\n",
    "Adding liquid to wells works similarly. You can use {func}`~pylabrobot.resources.plate.set_well_liquids` to set the liquid in each well of a plate. Each liquid is represented by a tuple where the first element corresponds to the type of liquid and the second to the volume in uL. Here, `None` is used to designate an unknown liquid."
   ]
  },
  {
   "cell_type": "code",
   "execution_count": 12,
   "id": "5b76aac2",
   "metadata": {},
   "outputs": [],
   "source": [
    "plt_1_liquids = [[(None, 300)]]*96\n",
    "plt.set_well_liquids(plt_1_liquids)"
   ]
  },
  {
   "attachments": {},
   "cell_type": "markdown",
   "id": "66281459",
   "metadata": {},
   "source": [
    "In the visualizer, you can see that the opacity of the well is proportional to how full the well is relative to its maximum volume."
   ]
  },
  {
   "cell_type": "markdown",
   "id": "66a27cfc",
   "metadata": {},
   "source": [
    "![Simulator after the tips have been placed and the volumes adjusted](./img/visualizer/resources.png)"
   ]
  },
  {
   "cell_type": "markdown",
   "id": "27af93d8",
   "metadata": {},
   "source": [
    "## Liquid handling\n",
    "\n",
    "Once the layout is complete, you can run the same commands as described in the [basic liquid handling tutorial](../00_liquid-handling/hamilton-star/basic).\n",
    "\n",
    "It is important that both tip tracking and volume tracking are enabled globally, so that the visualizer can keep track of the state of the tips and the volumes of the liquids."
   ]
  },
  {
   "cell_type": "code",
   "execution_count": 13,
   "id": "ce58298d",
   "metadata": {},
   "outputs": [
    {
     "data": {
      "text/plain": [
       "(None, None)"
      ]
     },
     "execution_count": 13,
     "metadata": {},
     "output_type": "execute_result"
    }
   ],
   "source": [
    "from pylabrobot.resources import set_tip_tracking, set_volume_tracking\n",
    "set_tip_tracking(True), set_volume_tracking(True)"
   ]
  },
  {
   "cell_type": "markdown",
   "id": "21c3f2cd",
   "metadata": {},
   "source": [
    "### Picking up tips\n",
    "\n",
    "Note that since we are using the {class}`~pylabrobot.liquid_handling.backends.chatterbox.ChatterboxBackend`, we just print out \"Picking up tips\" instead of actually performing an operation. The visualizer will show the tips being picked up."
   ]
  },
  {
   "cell_type": "code",
   "execution_count": 14,
   "id": "568b794f",
   "metadata": {},
   "outputs": [
    {
     "name": "stdout",
     "output_type": "stream",
     "text": [
      "left_pipette: {'pipetteId': 'sim_left', 'name': 'p300_single'}\n",
      "right_pipette: None\n",
      "left_has_tip: False\n",
      "right_has_tip: False\n"
     ]
    }
   ],
   "source": [
    "print(\"left_pipette:\", lh.backend.left_pipette)\n",
    "print(\"right_pipette:\", lh.backend.right_pipette)\n",
    "print(\"left_has_tip:\", lh.backend.left_pipette_has_tip)\n",
    "print(\"right_has_tip:\", lh.backend.right_pipette_has_tip)"
   ]
  },
  {
   "cell_type": "code",
   "execution_count": 15,
   "id": "f97eadd4",
   "metadata": {},
   "outputs": [],
   "source": [
    "await lh.pick_up_tips(tip_rack[0])"
   ]
  },
  {
   "cell_type": "code",
   "execution_count": 16,
   "id": "bf46e476",
   "metadata": {},
   "outputs": [],
   "source": [
    "await lh.drop_tips(tip_rack[0])"
   ]
  },
  {
   "cell_type": "markdown",
   "id": "5c6948b2",
   "metadata": {},
   "source": [
    "### Aspirating and dispensing"
   ]
  },
  {
   "cell_type": "code",
   "execution_count": 17,
   "id": "947977c7",
   "metadata": {},
   "outputs": [],
   "source": [
    "await lh.pick_up_tips(tip_rack[1])"
   ]
  },
  {
   "cell_type": "code",
   "execution_count": 18,
   "id": "c25a147f",
   "metadata": {},
   "outputs": [],
   "source": [
    "await lh.aspirate(plt[\"A2\"], vols=[200])"
   ]
  },
  {
   "cell_type": "code",
   "execution_count": 19,
   "id": "e86428ea",
   "metadata": {},
   "outputs": [],
   "source": [
    "await lh.dispense(plt[\"A1\"], vols=[200])"
   ]
  },
  {
   "cell_type": "code",
   "execution_count": 20,
   "id": "70117e04",
   "metadata": {},
   "outputs": [],
   "source": [
    "await lh.return_tips()"
   ]
  },
  {
   "cell_type": "code",
   "execution_count": 21,
   "id": "44a61431",
   "metadata": {},
   "outputs": [],
   "source": [
    "await vis.stop()"
   ]
  }
 ],
 "metadata": {
  "kernelspec": {
   "display_name": "pylabrobot",
   "language": "python",
   "name": "python3"
  },
  "language_info": {
   "codemirror_mode": {
    "name": "ipython",
    "version": 3
   },
   "file_extension": ".py",
   "mimetype": "text/x-python",
   "name": "python",
   "nbconvert_exporter": "python",
   "pygments_lexer": "ipython3",
   "version": "3.10.17"
  },
  "toc": {
   "base_numbering": 1,
   "nav_menu": {},
   "number_sections": true,
   "sideBar": true,
   "skip_h1_title": false,
   "title_cell": "Table of Contents",
   "title_sidebar": "Contents",
   "toc_cell": false,
   "toc_position": {},
   "toc_section_display": true,
   "toc_window_display": false
  },
  "varInspector": {
   "cols": {
    "lenName": 16,
    "lenType": 16,
    "lenVar": 40
   },
   "kernels_config": {
    "python": {
     "delete_cmd_postfix": "",
     "delete_cmd_prefix": "del ",
     "library": "var_list.py",
     "varRefreshCmd": "print(var_dic_list())"
    },
    "r": {
     "delete_cmd_postfix": ") ",
     "delete_cmd_prefix": "rm(",
     "library": "var_list.r",
     "varRefreshCmd": "cat(var_dic_list()) "
    }
   },
   "types_to_exclude": [
    "module",
    "function",
    "builtin_function_or_method",
    "instance",
    "_Feature"
   ],
   "window_display": false
  }
 },
 "nbformat": 4,
 "nbformat_minor": 5
}
